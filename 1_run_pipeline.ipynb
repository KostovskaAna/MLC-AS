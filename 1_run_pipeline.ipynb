{
 "cells": [
  {
   "cell_type": "code",
   "execution_count": null,
   "metadata": {},
   "outputs": [],
   "source": [
    "from classification_pipeline import classification_training_pipeline\n",
    "from regression_pipeline import regression_training_pipeline\n",
    "\n",
    "\n",
    "# set parameters\n",
    "metric = 'HAMMING LOSS example based'\n",
    "for learning_task in ['regression', 'pairwise_regression']:\n",
    "    for task_output in ['single', 'multi']:\n",
    "        regression_training_pipeline(metric, learning_task, task_output)\n",
    "\n",
    "\n",
    "# classification \n",
    "classification_training_pipeline(metric, 'classification', 'single')\n",
    "# pairwise_classification single output\n",
    "classification_training_pipeline(metric, 'pairwise_classification', 'single')\n",
    "# pairwise_classification multi output\n",
    "classification_training_pipeline(metric, 'pairwise_classification', 'multi')\n",
    "# cost sensitive pairwise classification singe target\n",
    "classification_training_pipeline(metric, 'pairwise_classification', 'single', cost_sensitive=True)"
   ]
  }
 ],
 "metadata": {
  "kernelspec": {
   "display_name": "gecco2023",
   "language": "python",
   "name": "python3"
  },
  "language_info": {
   "codemirror_mode": {
    "name": "ipython",
    "version": 3
   },
   "file_extension": ".py",
   "mimetype": "text/x-python",
   "name": "python",
   "nbconvert_exporter": "python",
   "pygments_lexer": "ipython3",
   "version": "3.8.16"
  }
 },
 "nbformat": 4,
 "nbformat_minor": 2
}
