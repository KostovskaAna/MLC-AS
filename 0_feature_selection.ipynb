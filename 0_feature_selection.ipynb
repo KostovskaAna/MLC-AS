{
 "cells": [
  {
   "cell_type": "code",
   "execution_count": 36,
   "metadata": {},
   "outputs": [
    {
     "name": "stdout",
     "output_type": "stream",
     "text": [
      "Original number of features: 61\n",
      "Number of features after variance threshold: 58\n",
      "Final number of features after removing high correlation: 33\n"
     ]
    }
   ],
   "source": [
    "import pandas as pd\n",
    "import numpy as np\n",
    "from sklearn.feature_selection import VarianceThreshold\n",
    "\n",
    "# Load the data\n",
    "df = pd.read_csv('./processed_data/metafeatures.csv', index_col=0)\n",
    "\n",
    "# Apply variance threshold\n",
    "selector = VarianceThreshold(threshold=0.01)\n",
    "reduced_data = selector.fit_transform(df)\n",
    "reduced_df = pd.DataFrame(reduced_data, index=df.index, columns=df.columns[selector.get_support()])\n",
    "\n",
    "# Function to remove highly correlated features\n",
    "def remove_highly_correlated(df, threshold):\n",
    "    corr_matrix = df.corr(method='spearman')  # Compute the Spearman correlation matrix\n",
    "    upper = corr_matrix.where(np.triu(np.ones(corr_matrix.shape), k=1).astype(bool))\n",
    "    to_drop = [column for column in upper.columns if any(upper[column] > threshold)]\n",
    "    return df.drop(to_drop, axis=1)\n",
    "\n",
    "# Apply the function to remove highly correlated features\n",
    "threshold = 0.9  # Set your own threshold\n",
    "final_df = remove_highly_correlated(reduced_df, threshold)\n",
    "\n",
    "# Print the results\n",
    "print(\"Original number of features:\", len(df.columns))\n",
    "print(\"Number of features after variance threshold:\", len(reduced_df.columns))\n",
    "print(\"Final number of features after removing high correlation:\", len(final_df.columns))\n",
    "\n",
    "\n",
    "final_df.to_csv(\"./processed_data/metafeatures_reduced_6.csv\")"
   ]
  }
 ],
 "metadata": {
  "kernelspec": {
   "display_name": "gecco2023",
   "language": "python",
   "name": "python3"
  },
  "language_info": {
   "codemirror_mode": {
    "name": "ipython",
    "version": 3
   },
   "file_extension": ".py",
   "mimetype": "text/x-python",
   "name": "python",
   "nbconvert_exporter": "python",
   "pygments_lexer": "ipython3",
   "version": "3.8.16"
  }
 },
 "nbformat": 4,
 "nbformat_minor": 2
}
